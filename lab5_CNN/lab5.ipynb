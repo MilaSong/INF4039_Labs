{
 "cells": [
  {
   "cell_type": "markdown",
   "metadata": {},
   "source": [
    "# INF4039 Deep Learning Systems / Giliojo mokymo sistemų taikymai\n",
    "**LAB5**"
   ]
  },
  {
   "cell_type": "markdown",
   "metadata": {},
   "source": [
    "## HOMEWORK TASK\n",
    "\n",
    "Create a Convolutional Neural Network for image classification task from one of the following datasets:\n",
    "1. Classify images of clothes using the Fashion MNIST dataset: https://www.kaggle.com/datasets/zalando-research/fashionmnist\n",
    "2. Teach the network to distinguish a cat from a dog: https://www.kaggle.com/competitions/dogs-vs-cats/data\n",
    "3. Classify music genres using the dataset of songs spectrograms: https://www.kaggle.com/datasets/andradaolteanu/gtzan-dataset-music-genre-classification\n",
    "4. Any other dataset, which is suitable for prediction task.\n",
    "\n",
    "Your Notebook/script must have the following parts:\n",
    "1. Data exploration (visualizing data, describing what values will be used for training, what is the target of the classification, etc.);\n",
    "2. Data preparation (fill empty values, remove outliers, check the correlations);\n",
    "3. Split the data into train and test sets;\n",
    "4. Neural network - try at least three different structures and see which one is the best for learning;\n",
    "5. Model evaluation (accuracy, loss, ROC curve, etc.) - at leas two evaluation methods."
   ]
  },
  {
   "cell_type": "markdown",
   "metadata": {},
   "source": [
    "# Image classification using Convolutional Neural Networks (CNN)\n",
    "\n",
    "In this lab we will learn how to classify images using Keras deep learing library several different image datasets.\n",
    "\n",
    "First we’re going to tackle a classic introductory Computer Vision problem: MNIST handwritten digit classification. The task is: given an image, classify it as a digit.\n",
    "\n",
    "<img src=\"img/mnist.webp\" \n",
    "     width=750 height=500 \n",
    "     style=\"display: block; margin: 0 auto\"/>\n",
    "\n",
    "Each image in the MNIST dataset is a 28x28 matrix, which contains a centered, grayscale digit. Our CNN will take an image and output one of 10 possible classes (one for each digit)."
   ]
  },
  {
   "cell_type": "code",
   "execution_count": 2,
   "metadata": {},
   "outputs": [],
   "source": [
    "# Install the dataset library\n",
    "#!pip install mnist"
   ]
  },
  {
   "cell_type": "code",
   "execution_count": 9,
   "metadata": {},
   "outputs": [],
   "source": [
    "import numpy as np\n",
    "import mnist\n",
    "from tensorflow import keras\n",
    "import matplotlib.pyplot as plt"
   ]
  },
  {
   "cell_type": "markdown",
   "metadata": {},
   "source": [
    "## Load the dataset\n",
    "\n",
    "In this case there is no need to do the train / test split since we can load already split data from the MNIST library."
   ]
  },
  {
   "cell_type": "code",
   "execution_count": 20,
   "metadata": {},
   "outputs": [
    {
     "name": "stdout",
     "output_type": "stream",
     "text": [
      "(60000, 28, 28)\n",
      "(60000,)\n",
      "(10000, 28, 28)\n",
      "(10000,)\n"
     ]
    }
   ],
   "source": [
    "# The first time you run this might be a bit slow, since the\n",
    "# mnist package has to download and cache the data.\n",
    "train_images = mnist.train_images()\n",
    "train_labels = mnist.train_labels()\n",
    "\n",
    "test_images = mnist.test_images()\n",
    "test_labels = mnist.test_labels()\n",
    "\n",
    "print(train_images.shape) \n",
    "print(train_labels.shape) \n",
    "\n",
    "print(test_images.shape) \n",
    "print(test_labels.shape) "
   ]
  },
  {
   "cell_type": "code",
   "execution_count": 26,
   "metadata": {},
   "outputs": [
    {
     "name": "stdout",
     "output_type": "stream",
     "text": [
      "Label: 5\n"
     ]
    },
    {
     "data": {
      "image/png": "[encoded data removed]",
      "text/plain": [
       "<Figure size 640x480 with 1 Axes>"
      ]
     },
     "metadata": {},
     "output_type": "display_data"
    }
   ],
   "source": [
    "index = 0\n",
    "\n",
    "plt.imshow(train_images[index]);\n",
    "print(f\"Label: {train_labels[index]}\")"
   ]
  },
  {
   "cell_type": "markdown",
   "metadata": {},
   "source": [
    "## Data preparation\n",
    "\n",
    "We will normalize the image pixel values from [0, 255] to [-0.5, 0.5] to make our network easier to train (using smaller, centered values usually leads to better results). We’ll also reshape each image from (28, 28) to (28, 28, 1) because Keras requires the third dimension."
   ]
  },
  {
   "cell_type": "code",
   "execution_count": 22,
   "metadata": {},
   "outputs": [
    {
     "name": "stdout",
     "output_type": "stream",
     "text": [
      "(60000, 28, 28, 1)\n",
      "(10000, 28, 28, 1)\n"
     ]
    }
   ],
   "source": [
    "# Normalize the images\n",
    "train_images = (train_images / 255) - 0.5\n",
    "test_images = (test_images / 255) - 0.5\n",
    "\n",
    "# Reshape the images\n",
    "train_images = np.expand_dims(train_images, axis=3)\n",
    "test_images = np.expand_dims(test_images, axis=3)\n",
    "\n",
    "print(train_images.shape) \n",
    "print(test_images.shape)  "
   ]
  },
  {
   "cell_type": "markdown",
   "metadata": {},
   "source": [
    "## Building the model\n",
    "\n",
    "<img src=\"img/cnn.svg\"\n",
    "     width=650 height=400\n",
    "     style=\"display: block; margin: 0 auto\"/>"
   ]
  },
  {
   "cell_type": "code",
   "execution_count": 27,
   "metadata": {},
   "outputs": [
    {
     "data": {
      "text/plain": [
       "(28, 28, 1)"
      ]
     },
     "execution_count": 27,
     "metadata": {},
     "output_type": "execute_result"
    }
   ],
   "source": [
    "train_images[0].shape"
   ]
  },
  {
   "cell_type": "code",
   "execution_count": 39,
   "metadata": {},
   "outputs": [
    {
     "name": "stdout",
     "output_type": "stream",
     "text": [
      "Model: \"sequential_4\"\n",
      "_________________________________________________________________\n",
      " Layer (type)                Output Shape              Param #   \n",
      "=================================================================\n",
      " conv2d_5 (Conv2D)           (None, 26, 26, 8)         80        \n",
      "                                                                 \n",
      " max_pooling2d_4 (MaxPooling  (None, 13, 13, 8)        0         \n",
      " 2D)                                                             \n",
      "                                                                 \n",
      " flatten_4 (Flatten)         (None, 1352)              0         \n",
      "                                                                 \n",
      " dense_4 (Dense)             (None, 64)                86592     \n",
      "                                                                 \n",
      " dense_5 (Dense)             (None, 10)                650       \n",
      "                                                                 \n",
      "=================================================================\n",
      "Total params: 87,322\n",
      "Trainable params: 87,322\n",
      "Non-trainable params: 0\n",
      "_________________________________________________________________\n"
     ]
    }
   ],
   "source": [
    "import tensorflow as tf\n",
    "from tensorflow import keras\n",
    "from keras.models import Sequential\n",
    "from keras import layers\n",
    "\n",
    "np.random.seed(1337)\n",
    "\n",
    "\n",
    "num_filters = 8\n",
    "filter_size = 3\n",
    "pool_size = 2\n",
    "\n",
    "model = keras.Sequential( \n",
    "    [\n",
    "        layers.Conv2D(num_filters, filter_size, input_shape=train_images[0].shape),\n",
    "        #layers.Conv2D(num_filters, filter_size),\n",
    "        layers.MaxPooling2D(pool_size=pool_size),\n",
    "        #layers.Dropout(0.5),\n",
    "        layers.Flatten(),\n",
    "        #layers.Dense(64, activation='relu'),\n",
    "        layers.Dense(10, activation = \"softmax\"),\n",
    "    ]\n",
    ")\n",
    "\n",
    "model.summary()"
   ]
  },
  {
   "cell_type": "code",
   "execution_count": 40,
   "metadata": {},
   "outputs": [
    {
     "name": "stdout",
     "output_type": "stream",
     "text": [
      "Epoch 1/3\n",
      "1875/1875 [==============================] - 7s 4ms/step - loss: 0.2639 - accuracy: 0.9219 - val_loss: 0.1102 - val_accuracy: 0.9672\n",
      "Epoch 2/3\n",
      "1875/1875 [==============================] - 6s 3ms/step - loss: 0.0969 - accuracy: 0.9715 - val_loss: 0.0849 - val_accuracy: 0.9720\n",
      "Epoch 3/3\n",
      "1875/1875 [==============================] - 5s 3ms/step - loss: 0.0637 - accuracy: 0.9813 - val_loss: 0.0611 - val_accuracy: 0.9807\n"
     ]
    }
   ],
   "source": [
    "from tensorflow.keras.utils import to_categorical\n",
    "import datetime\n",
    "\n",
    "model.compile(\n",
    "  'adam',\n",
    "  loss='categorical_crossentropy',\n",
    "  metrics=['accuracy'],\n",
    ")\n",
    "\n",
    "# Tensorboard logs dir\n",
    "log_dir = \"logs/fit/\" + datetime.datetime.now().strftime(\"%Y%m%d-%H%M%S\")\n",
    "tensorboard_callback = tf.keras.callbacks.TensorBoard(log_dir=log_dir, histogram_freq=1)\n",
    "\n",
    "model.fit(\n",
    "  train_images,\n",
    "  to_categorical(train_labels),\n",
    "  epochs=3,\n",
    "  validation_data=(test_images, to_categorical(test_labels)),\n",
    "  callbacks=[tensorboard_callback]\n",
    ");"
   ]
  },
  {
   "cell_type": "code",
   "execution_count": 33,
   "metadata": {},
   "outputs": [],
   "source": [
    "%load_ext tensorboard"
   ]
  },
  {
   "cell_type": "markdown",
   "metadata": {},
   "source": [
    "## Saving the model"
   ]
  },
  {
   "cell_type": "code",
   "execution_count": 41,
   "metadata": {},
   "outputs": [],
   "source": [
    "model.save_weights('cnn.h5')"
   ]
  },
  {
   "cell_type": "code",
   "execution_count": null,
   "metadata": {},
   "outputs": [],
   "source": []
  }
 ],
 "metadata": {
  "kernelspec": {
   "display_name": "Python 3.10.6 ('.venv': venv)",
   "language": "python",
   "name": "python3"
  },
  "language_info": {
   "codemirror_mode": {
    "name": "ipython",
    "version": 3
   },
   "file_extension": ".py",
   "mimetype": "text/x-python",
   "name": "python",
   "nbconvert_exporter": "python",
   "pygments_lexer": "ipython3",
   "version": "3.10.6"
  },
  "orig_nbformat": 4,
  "vscode": {
   "interpreter": {
    "hash": "f32e9e4625cf49280caf02d5f3b5653a557dbf50957a0aa645284dfb322991f3"
   }
  }
 },
 "nbformat": 4,
 "nbformat_minor": 2
}
